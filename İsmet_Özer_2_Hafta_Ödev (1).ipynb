{
 "cells": [
  {
   "cell_type": "code",
   "execution_count": null,
   "metadata": {},
   "outputs": [],
   "source": [
    "#Question 1\n",
    "M = [[11, 12, 13, 14], [21, 22, 23, 24], [31, 32, 33, 34]]\n",
    "\n",
    "for i in range(len(M)):\n",
    "    M[i][0],M[i][1]=M[i][1],M[i][0] \n",
    "    \n",
    "M"
   ]
  },
  {
   "cell_type": "code",
   "execution_count": null,
   "metadata": {},
   "outputs": [],
   "source": [
    "#Question 2\n",
    "M = [[0, 3, 2, 4], [2, 7, 5, 9], [6, 1, 2, 3]]\n",
    "\n",
    "max = float('-inf')\n",
    "\n",
    "pos = [0,0]\n",
    "\n",
    "for i in range(len(M)):\n",
    "    for j in range(len(M[i])):\n",
    "        if(M[i][j] > max):\n",
    "            max = M[i][j]\n",
    "            pos = [i, j]\n",
    "        \n",
    "print(tuple(pos))"
   ]
  },
  {
   "cell_type": "code",
   "execution_count": null,
   "metadata": {},
   "outputs": [],
   "source": [
    "#Question 3\n",
    "\"\"\"Given two lists of numbers, count how many unique numbers occur in both of them.\n",
    "\n",
    "For example, on input\n",
    "\n",
    "list_1 = [5, 3, 3, 10, 40]\n",
    "\n",
    "list_2 = [40, 3, 40, 1, 2]\n",
    "\n",
    "output must be\n",
    "\n",
    "6\"\"\"\n",
    "\n",
    "\n",
    "# Answer \n",
    "list_1 = [5, 3, 3, 10, 40]\n",
    "\n",
    "list_2 = [40, 3, 40, 1, 2]\n",
    "\n",
    "list_3 = list_1 + list_2       #Create list_3 by adding list_1 and list_2\n",
    "\n",
    "uniquesList = []               #Create an empty list called uniquesList\n",
    "\n",
    "for x in list_3:               #For every item in list_3\n",
    "    if x not in uniquesList:   #if the item is not in uniquesList\n",
    "        uniquesList.append(x)  #add it to uniquesList\n",
    " \n",
    "len(uniquesList)               #Print the lenght of the uniquesList"
   ]
  },
  {
   "cell_type": "code",
   "execution_count": null,
   "metadata": {},
   "outputs": [],
   "source": [
    "#Question 4\n",
    "students = {\"Jane\":{\"grade\":90,\"student_number\":4012}, \n",
    "          \"Pat\":{\"grade\":81,\"student_number\":4052},\n",
    "          \"Denis\":{\"grade\":70,\"student_number\":4089},\n",
    "          \"Max\":{\"grade\":72,\"student_number\":4322},\n",
    "          \"Lara\":{\"grade\":74,\"student_number\":4042}}\n",
    "\n",
    "             \n",
    "              \n",
    "gradesList = []\n",
    "for student in students:\n",
    "      gradesList.append(students[student][\"grade\"])\n",
    "\n",
    "gradeAverage = sum(gradesList)/len(gradesList)\n",
    "\n",
    "for student in students:\n",
    "    if students[student][\"grade\"] > gradeAverage:\n",
    "        print(f\"Grade(s) of {student} is above average\")\n",
    "    elif students[student][\"grade\"] < gradeAverage:\n",
    "        print(f\"Grade(s) of {student} is below average\")\n",
    "    else:\n",
    "        print(f\"Grade(s) of {student} is average\")"
   ]
  },
  {
   "cell_type": "code",
   "execution_count": null,
   "metadata": {},
   "outputs": [],
   "source": [
    "#Question 5\n",
    "totalTickets = 200\n",
    "\n",
    "ticketsWanted = 0\n",
    "\n",
    "customers = 0\n",
    "\n",
    "while totalTickets > 0:\n",
    "    print(f\"\\nTickets remaining {totalTickets}\")\n",
    "    ticketsWanted = int(input(\"Number of tickets you want to buy\\n(Minimum 1, maximum 4): \"))\n",
    "    totalTickets = totalTickets - ticketsWanted\n",
    "    customers += 1\n",
    "    \n",
    "print(\"\\nOut of tickets\")\n",
    "\n",
    "print(f\"\\nTotal transactions: {customers}\")"
   ]
  }
 ],
 "metadata": {
  "kernelspec": {
   "display_name": "Python 3",
   "language": "python",
   "name": "python3"
  },
  "language_info": {
   "codemirror_mode": {
    "name": "ipython",
    "version": 3
   },
   "file_extension": ".py",
   "mimetype": "text/x-python",
   "name": "python",
   "nbconvert_exporter": "python",
   "pygments_lexer": "ipython3",
   "version": "3.8.3"
  }
 },
 "nbformat": 4,
 "nbformat_minor": 4
}
