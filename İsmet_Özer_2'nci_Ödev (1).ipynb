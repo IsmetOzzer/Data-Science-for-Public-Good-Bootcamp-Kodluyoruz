{
 "cells": [
  {
   "cell_type": "code",
   "execution_count": null,
   "metadata": {
    "scrolled": true
   },
   "outputs": [],
   "source": [
    "#1. Question\n",
    "\n",
    "def iter_power(x,n):\n",
    "    if n == 1:\n",
    "        return x\n",
    "    else:\n",
    "        num = 1\n",
    "        for i in range(n):\n",
    "            num = num * x\n",
    "        return num\n",
    "    \n",
    "iter_power(4,3)"
   ]
  },
  {
   "cell_type": "code",
   "execution_count": null,
   "metadata": {
    "scrolled": true
   },
   "outputs": [],
   "source": [
    "#2. Question\n",
    "\n",
    "def recur_power(x,n):\n",
    "    if x ==1 or n == 0:\n",
    "        return 1 \n",
    "    else:\n",
    "        return x * recur_power(x, n-1)\n",
    "    \n",
    "recur_power(4,3)\n"
   ]
  },
  {
   "cell_type": "code",
   "execution_count": null,
   "metadata": {},
   "outputs": [],
   "source": [
    "#3. Question\n",
    "\n",
    "d = {\"a\":[1,2,3], \"b\":[45,43,21,23], \"c\":[3,4,5]}\n",
    "\n",
    "def max(x):\n",
    "    \n",
    "    maxVal = 0\n",
    "    \n",
    "    for k in list(d.keys()):\n",
    "        if len(d[k]) > maxVal:\n",
    "            maxVal = len(d[k])\n",
    "            res = k\n",
    "    return res\n",
    "\n",
    "max(d)\n"
   ]
  },
  {
   "cell_type": "code",
   "execution_count": null,
   "metadata": {},
   "outputs": [],
   "source": [
    "#4. Question\n",
    "\n",
    "dict = {0:0, 1:1}\n",
    "\n",
    "def fib(x):\n",
    "    \n",
    "    if x not in dict:\n",
    "        val = fib(x-1) + fib(x-2)\n",
    "        dict[x] = val\n",
    "        \n",
    "    return dict[x]\n",
    "\n",
    "fib(8)"
   ]
  }
 ],
 "metadata": {
  "kernelspec": {
   "display_name": "Python 3",
   "language": "python",
   "name": "python3"
  },
  "language_info": {
   "codemirror_mode": {
    "name": "ipython",
    "version": 3
   },
   "file_extension": ".py",
   "mimetype": "text/x-python",
   "name": "python",
   "nbconvert_exporter": "python",
   "pygments_lexer": "ipython3",
   "version": "3.8.3"
  }
 },
 "nbformat": 4,
 "nbformat_minor": 4
}
